{
 "cells": [
  {
   "cell_type": "markdown",
   "metadata": {},
   "source": [
    "# Generalizations of Max-Flow\n",
    "\n",
    "The purpose of this assignment is to learn about the min-cost flow problem, a generalization of max-flow, and to familiarize yourself with implementing and solving linear programs."
   ]
  },
  {
   "cell_type": "markdown",
   "metadata": {},
   "source": [
    "## Min-Cost Flow\n",
    "\n",
    "Recall that a flow network with demands consists of a directed graph $G = (V, E)$, where each edge $(i,j) \\in E$ has a positive integer capacity $c_{ij}$ and each node $i \\in V$ has an integer demand $d_i$. In a *min-cost flow* problem, each edge $(i,j) \\in E$ also has a cost (or weight) $w_{ij}$. (Note that this input generalizes the input to two important problems we discussed so far: in max flow, the edge weights were not important while in shortest paths, the edge capacities were not important.) \n",
    "\n",
    "Given a flow network with capacities and costs, the goal is to find a *feasible* flow $f: E \\rightarrow R^+$ --that is, a flow satisfying edge capacity constraints and node demands-- that minimizes the total cost of the flow. Explicitly, the problem can be formulated as a linear program."
   ]
  },
  {
   "cell_type": "markdown",
   "metadata": {},
   "source": [
    "### Question 1\n",
    "\n",
    "Answer Problem 1 in HW4-theoretical."
   ]
  },
  {
   "cell_type": "markdown",
   "metadata": {},
   "source": [
    "### Question 2\n",
    "\n",
    "To implement your reduction from Problem 1 in HW4-theoretical, you will work with some standard benchmark instances for min-cost flow found [here](http://elib.zib.de/pub/Packages/mp-testdata/mincost/gte/index.html). The format of the data is described in the [Info](http://elib.zib.de/pub/Packages/mp-testdata/mincost/gte/info) file. You are to read in the graph from the data file in a form that can be solved using NetworkX's `min_cost_flow` function. Note that the data sometimes lists multiple edges between the same nodes, but with different costs or capacities. In forming the graph, you need to implement your reduction from the previous question and form a `DiGraph` instance, because the `min_cost_flow` function cannot handle multi-edges, even though the package offers `MultiDiGraph` objects."
   ]
  },
  {
   "cell_type": "code",
   "execution_count": 1,
   "metadata": {
    "collapsed": false
   },
   "outputs": [],
   "source": [
    "import networkx as nx\n",
    "\n",
    "def create_graph(infile):\n",
    "    \n",
    "    \"\"\"Creates a directed graph as specified by the input file. Edges are annotated with 'capacity'\n",
    "    and 'weight' attributes, and nodes are annotated with 'demand' attributes.\n",
    "    \n",
    "    Args:\n",
    "        infile: the input file using the format to specify a min-cost flow problem.\n",
    "        \n",
    "    Returns:\n",
    "        A directed graph (but not a multi-graph) with edges annotated with 'capacity' and 'weight' attributes\n",
    "        and nodes annotated with 'demand' attributes.\n",
    "    \"\"\"\n",
    "    # TODO: implement function   \n",
    "    G=nx.DiGraph()\n",
    "    graph = open(infile)\n",
    "    counter=0\n",
    "    for line in graph:\n",
    "        \n",
    "        # extract all nodes with demands\n",
    "        if line[0]=='n':\n",
    "            n,n_id,n_demand=line.strip().split()\n",
    "            G.add_node(n_id)\n",
    "            G.node[n_id]['demand']=int(n_demand)\n",
    "            \n",
    "        # extract all edges (arcs) with their properties viz. Upper bound Capacity,Lower Bound Capacity, Weights\n",
    "        if line[0]=='a':\n",
    "            a1,a2,a3,a4,a5,a6=line.strip().split()\n",
    "            \n",
    "            # Reduction of graph when it encounters multiple edges between two nodes\n",
    "            if G.has_edge(a2,a3):\n",
    "                x='x'+str(counter)\n",
    "                \n",
    "                G.add_edge(a2,x)\n",
    "                G.edge[a2][x]['capacity']=int(a5)\n",
    "                G.edge[a2][x]['weight']=0\n",
    "                G.edge[a2][x]['lower']=int(a4)\n",
    "            \n",
    "                G.add_edge(x,a3)\n",
    "                G.edge[x][a3]['capacity']=int(a5)\n",
    "                G.edge[x][a3]['weight']=int(a6)\n",
    "                G.edge[x][a3]['lower']=int(a4)\n",
    "                counter=counter+1\n",
    "            else:  \n",
    "                G.add_edge(a2,a3)\n",
    "                G.edge[a2][a3]['capacity']=int(a5)\n",
    "                G.edge[a2][a3]['weight']=int(a6)\n",
    "                G.edge[a2][a3]['lower']=int(a4)\n",
    "    graph.close()\n",
    "    \n",
    "    # Assigning demand of all other nodes = 0\n",
    "    for i in G.nodes():\n",
    "        if G.node[i]=={}:\n",
    "            G.node[i]['demand']=0\n",
    "        else:\n",
    "            continue\n",
    "    return G\n",
    "\n",
    "\n",
    "    pass"
   ]
  },
  {
   "cell_type": "markdown",
   "metadata": {},
   "source": [
    "The following will check that your code outputs the expected min cost flow values on several test instances."
   ]
  },
  {
   "cell_type": "code",
   "execution_count": 2,
   "metadata": {
    "collapsed": false
   },
   "outputs": [
    {
     "name": "stdout",
     "output_type": "stream",
     "text": [
      "Correct value for _40 instance: True\n",
      "Correct value for _6830 instance: True\n",
      "Correct value for _176280 instance: True\n"
     ]
    }
   ],
   "source": [
    "G_40 = create_graph('gte_bad.40')\n",
    "G_6830 = create_graph('gte_bad.6830')\n",
    "G_176280 = create_graph('gte_bad.176280')\n",
    "\n",
    "print \"Correct value for _40 instance:\", nx.min_cost_flow_cost(G_40) == 52099553858\n",
    "print \"Correct value for _6830 instance:\", nx.min_cost_flow_cost(G_6830) == 299390431788\n",
    "print \"Correct value for _176280 instance:\", nx.min_cost_flow_cost(G_176280) == 510585093810"
   ]
  },
  {
   "cell_type": "markdown",
   "metadata": {},
   "source": [
    "## Linear Programming\n",
    "\n",
    "Instead of using special-purpose min-cost flow solvers, you will now formulate the problems as linear programs and use general-purpose LP solvers to find the solutions."
   ]
  },
  {
   "cell_type": "markdown",
   "metadata": {},
   "source": [
    "### Question 3\n",
    "\n",
    "Implement the following function to formulate the flow LP and return the optimal value (i.e., minimum cost over feasible flows)."
   ]
  },
  {
   "cell_type": "code",
   "execution_count": 3,
   "metadata": {
    "collapsed": false
   },
   "outputs": [],
   "source": [
    "import pulp\n",
    "\n",
    "def lp_flow_value(G):\n",
    "    \"\"\"Computes the value of the minimum cost flow by formulating and solving\n",
    "    the problem as an LP.\n",
    "    \n",
    "    Args:\n",
    "        G: a directed graph with edges annotated with 'capacity' and 'weight'\n",
    "            attrbutes, and nodes annotated with 'demand' attributes.\n",
    "            \n",
    "    Returns:\n",
    "        The value of the minimum cost flow.\n",
    "    \"\"\"\n",
    "    # TODO: implement function\n",
    "    flow={}\n",
    "    counter=1\n",
    "    obj=[]\n",
    "    \n",
    "    # define flow dictionary for each node with inflow, outflow and demand\n",
    "    for i in G.nodes():\n",
    "        flow[i]={'inflow':[], 'outflow':[], 'demand':G.node[i]['demand']}\n",
    "                 \n",
    "    for (s1,s2) in G.edges() :\n",
    "        f=pulp.LpVariable('f'+str(counter),G.edge[s1][s2]['lower'], G.edge[s1][s2]['capacity'])\n",
    "        flow[s1]['outflow'].append(f)\n",
    "        flow[s2]['inflow'].append(f)\n",
    "        obj.append(f*G.edge[s1][s2]['weight'])\n",
    "        counter=counter+1\n",
    "        \n",
    "    # Objective to minimize cost\n",
    "    prob = pulp.LpProblem(\"problem\", pulp.LpMinimize)\n",
    "    \n",
    "    # Demand contraints for each node defined\n",
    "    for i in G.nodes():     \n",
    "        prob += sum(flow[i]['inflow'])-sum(flow[i]['outflow']) <= flow[i]['demand']\n",
    "    \n",
    "    # Solve LP\n",
    "    prob += sum(obj)\n",
    "    status = prob.solve()\n",
    "    return pulp.value(sum(obj))\n",
    "    pass"
   ]
  },
  {
   "cell_type": "markdown",
   "metadata": {},
   "source": [
    "The following will check that the LP finds the same optimal values as previously."
   ]
  },
  {
   "cell_type": "code",
   "execution_count": 4,
   "metadata": {
    "collapsed": false
   },
   "outputs": [
    {
     "name": "stdout",
     "output_type": "stream",
     "text": [
      "Correct value for _40 instance: True\n",
      "Correct value for _6830 instance: True\n",
      "Correct value for _176280 instance: True\n"
     ]
    }
   ],
   "source": [
    "print \"Correct value for _40 instance:\", lp_flow_value(G_40) == 52099553858\n",
    "print \"Correct value for _6830 instance:\", lp_flow_value(G_6830) == 299390431788\n",
    "print \"Correct value for _176280 instance:\", lp_flow_value(G_176280) == 510585093810"
   ]
  }
 ],
 "metadata": {
  "anaconda-cloud": {},
  "kernelspec": {
   "display_name": "Python [Root]",
   "language": "python",
   "name": "Python [Root]"
  },
  "language_info": {
   "codemirror_mode": {
    "name": "ipython",
    "version": 2
   },
   "file_extension": ".py",
   "mimetype": "text/x-python",
   "name": "python",
   "nbconvert_exporter": "python",
   "pygments_lexer": "ipython2",
   "version": "2.7.12"
  }
 },
 "nbformat": 4,
 "nbformat_minor": 0
}
